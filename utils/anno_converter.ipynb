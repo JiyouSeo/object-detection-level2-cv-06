{
 "cells": [
  {
   "cell_type": "code",
   "execution_count": 7,
   "source": [
    "from pycocotools.coco import COCO\n",
    "import os\n",
    "import json\n",
    "import pandas as pd\n",
    "import numpy as np"
   ],
   "outputs": [],
   "metadata": {}
  },
  {
   "cell_type": "code",
   "execution_count": 8,
   "source": [
    "# class_full_name_list = ['General trash', 'Paper', 'Paper pack', 'Metal', 'Glass', 'Plastic', 'Styrofoam', 'Plastic bag', 'Battery', 'Clothing']\n",
    "# class_short_name_list = ['General', 'Paper', 'Pack', 'Metal', 'Glass', 'Plastic', 'Foam', 'Bag', 'Battery', 'Cloth']\n",
    "# class_color_list = [\n",
    "#     [250,0,50], \n",
    "#     [0, 255, 0], \n",
    "#     [0, 180, 80], \n",
    "#     [185, 185, 185], \n",
    "#     [100, 100, 100], \n",
    "#     [200, 50, 150], \n",
    "#     [50, 150, 200], \n",
    "#     [50, 200, 150], \n",
    "#     [200, 200, 200], \n",
    "#     [255,255,255], \n",
    "# ]\n",
    "# class_color_list = [(np.array(RGB)/255).tolist() for RGB in class_color_list]\n",
    "# boxform = [{'boxstyle': 'round', 'ec': RGB, 'fc': RGB, 'alpha': 0.4} for RGB in class_color_list] # 'fc': np.clip(np.array(RGB)*10, 0., 1.)"
   ],
   "outputs": [],
   "metadata": {}
  },
  {
   "cell_type": "code",
   "execution_count": 48,
   "source": [
    "data_dir = '/opt/ml/detection/dataset'\n",
    "anno_source = '/opt/ml/detection/dataset/train.json'\n",
    "\n",
    "custom_json_dir = '/opt/ml/detection/teambase/custom_annos'\n",
    "extension = '.json'\n",
    "file_name = 'custom'"
   ],
   "outputs": [],
   "metadata": {}
  },
  {
   "cell_type": "code",
   "execution_count": 18,
   "source": [
    "with open(anno_source) as json_file:\n",
    "    source_anns = json.load(json_file)\n",
    "\n",
    "print(source_anns.keys())\n",
    "source_info = source_anns['info']\n",
    "source_licenses = source_anns['licenses']\n",
    "source_images = source_anns['images']\n",
    "source_categories = source_anns['categories']\n",
    "source_annotations = source_anns['annotations']\n",
    "# print(source_info)"
   ],
   "outputs": [
    {
     "output_type": "stream",
     "name": "stdout",
     "text": [
      "dict_keys(['info', 'licenses', 'images', 'categories', 'annotations'])\n"
     ]
    }
   ],
   "metadata": {}
  },
  {
   "cell_type": "code",
   "execution_count": 19,
   "source": [
    "source_images[:1]"
   ],
   "outputs": [
    {
     "output_type": "execute_result",
     "data": {
      "text/plain": [
       "[{'width': 1024,\n",
       "  'height': 1024,\n",
       "  'file_name': 'train/0000.jpg',\n",
       "  'license': 0,\n",
       "  'flickr_url': None,\n",
       "  'coco_url': None,\n",
       "  'date_captured': '2020-12-26 14:44:23',\n",
       "  'id': 0}]"
      ]
     },
     "metadata": {},
     "execution_count": 19
    }
   ],
   "metadata": {}
  },
  {
   "cell_type": "code",
   "execution_count": 20,
   "source": [
    "df_images_origin = pd.json_normalize(source_images)\n",
    "df_anno_origin = pd.json_normalize(source_annotations)\n",
    "df_anno_origin.head()"
   ],
   "outputs": [
    {
     "output_type": "execute_result",
     "data": {
      "text/html": [
       "<div>\n",
       "<style scoped>\n",
       "    .dataframe tbody tr th:only-of-type {\n",
       "        vertical-align: middle;\n",
       "    }\n",
       "\n",
       "    .dataframe tbody tr th {\n",
       "        vertical-align: top;\n",
       "    }\n",
       "\n",
       "    .dataframe thead th {\n",
       "        text-align: right;\n",
       "    }\n",
       "</style>\n",
       "<table border=\"1\" class=\"dataframe\">\n",
       "  <thead>\n",
       "    <tr style=\"text-align: right;\">\n",
       "      <th></th>\n",
       "      <th>image_id</th>\n",
       "      <th>category_id</th>\n",
       "      <th>area</th>\n",
       "      <th>bbox</th>\n",
       "      <th>iscrowd</th>\n",
       "      <th>id</th>\n",
       "    </tr>\n",
       "  </thead>\n",
       "  <tbody>\n",
       "    <tr>\n",
       "      <th>0</th>\n",
       "      <td>0</td>\n",
       "      <td>0</td>\n",
       "      <td>257301.66</td>\n",
       "      <td>[197.6, 193.7, 547.8, 469.7]</td>\n",
       "      <td>0</td>\n",
       "      <td>0</td>\n",
       "    </tr>\n",
       "    <tr>\n",
       "      <th>1</th>\n",
       "      <td>1</td>\n",
       "      <td>3</td>\n",
       "      <td>10402.56</td>\n",
       "      <td>[0.0, 407.4, 57.6, 180.6]</td>\n",
       "      <td>0</td>\n",
       "      <td>1</td>\n",
       "    </tr>\n",
       "    <tr>\n",
       "      <th>2</th>\n",
       "      <td>1</td>\n",
       "      <td>7</td>\n",
       "      <td>26259.36</td>\n",
       "      <td>[0.0, 455.6, 144.6, 181.6]</td>\n",
       "      <td>0</td>\n",
       "      <td>2</td>\n",
       "    </tr>\n",
       "    <tr>\n",
       "      <th>3</th>\n",
       "      <td>1</td>\n",
       "      <td>4</td>\n",
       "      <td>69096.17</td>\n",
       "      <td>[722.3, 313.4, 274.3, 251.9]</td>\n",
       "      <td>0</td>\n",
       "      <td>3</td>\n",
       "    </tr>\n",
       "    <tr>\n",
       "      <th>4</th>\n",
       "      <td>1</td>\n",
       "      <td>5</td>\n",
       "      <td>24164.58</td>\n",
       "      <td>[353.2, 671.0, 233.7, 103.4]</td>\n",
       "      <td>0</td>\n",
       "      <td>4</td>\n",
       "    </tr>\n",
       "  </tbody>\n",
       "</table>\n",
       "</div>"
      ],
      "text/plain": [
       "   image_id  category_id       area                          bbox  iscrowd  id\n",
       "0         0            0  257301.66  [197.6, 193.7, 547.8, 469.7]        0   0\n",
       "1         1            3   10402.56     [0.0, 407.4, 57.6, 180.6]        0   1\n",
       "2         1            7   26259.36    [0.0, 455.6, 144.6, 181.6]        0   2\n",
       "3         1            4   69096.17  [722.3, 313.4, 274.3, 251.9]        0   3\n",
       "4         1            5   24164.58  [353.2, 671.0, 233.7, 103.4]        0   4"
      ]
     },
     "metadata": {},
     "execution_count": 20
    }
   ],
   "metadata": {}
  },
  {
   "cell_type": "code",
   "execution_count": 21,
   "source": [
    "df_anno = df_anno_origin\n",
    "df_anno[[\"X\",\"Y\",\"W\",\"H\"]] = df_anno['bbox'].tolist()\n",
    "df_anno.drop(columns='bbox', inplace=True)\n",
    "df_anno.head()"
   ],
   "outputs": [
    {
     "output_type": "execute_result",
     "data": {
      "text/html": [
       "<div>\n",
       "<style scoped>\n",
       "    .dataframe tbody tr th:only-of-type {\n",
       "        vertical-align: middle;\n",
       "    }\n",
       "\n",
       "    .dataframe tbody tr th {\n",
       "        vertical-align: top;\n",
       "    }\n",
       "\n",
       "    .dataframe thead th {\n",
       "        text-align: right;\n",
       "    }\n",
       "</style>\n",
       "<table border=\"1\" class=\"dataframe\">\n",
       "  <thead>\n",
       "    <tr style=\"text-align: right;\">\n",
       "      <th></th>\n",
       "      <th>image_id</th>\n",
       "      <th>category_id</th>\n",
       "      <th>area</th>\n",
       "      <th>iscrowd</th>\n",
       "      <th>id</th>\n",
       "      <th>X</th>\n",
       "      <th>Y</th>\n",
       "      <th>W</th>\n",
       "      <th>H</th>\n",
       "    </tr>\n",
       "  </thead>\n",
       "  <tbody>\n",
       "    <tr>\n",
       "      <th>0</th>\n",
       "      <td>0</td>\n",
       "      <td>0</td>\n",
       "      <td>257301.66</td>\n",
       "      <td>0</td>\n",
       "      <td>0</td>\n",
       "      <td>197.6</td>\n",
       "      <td>193.7</td>\n",
       "      <td>547.8</td>\n",
       "      <td>469.7</td>\n",
       "    </tr>\n",
       "    <tr>\n",
       "      <th>1</th>\n",
       "      <td>1</td>\n",
       "      <td>3</td>\n",
       "      <td>10402.56</td>\n",
       "      <td>0</td>\n",
       "      <td>1</td>\n",
       "      <td>0.0</td>\n",
       "      <td>407.4</td>\n",
       "      <td>57.6</td>\n",
       "      <td>180.6</td>\n",
       "    </tr>\n",
       "    <tr>\n",
       "      <th>2</th>\n",
       "      <td>1</td>\n",
       "      <td>7</td>\n",
       "      <td>26259.36</td>\n",
       "      <td>0</td>\n",
       "      <td>2</td>\n",
       "      <td>0.0</td>\n",
       "      <td>455.6</td>\n",
       "      <td>144.6</td>\n",
       "      <td>181.6</td>\n",
       "    </tr>\n",
       "    <tr>\n",
       "      <th>3</th>\n",
       "      <td>1</td>\n",
       "      <td>4</td>\n",
       "      <td>69096.17</td>\n",
       "      <td>0</td>\n",
       "      <td>3</td>\n",
       "      <td>722.3</td>\n",
       "      <td>313.4</td>\n",
       "      <td>274.3</td>\n",
       "      <td>251.9</td>\n",
       "    </tr>\n",
       "    <tr>\n",
       "      <th>4</th>\n",
       "      <td>1</td>\n",
       "      <td>5</td>\n",
       "      <td>24164.58</td>\n",
       "      <td>0</td>\n",
       "      <td>4</td>\n",
       "      <td>353.2</td>\n",
       "      <td>671.0</td>\n",
       "      <td>233.7</td>\n",
       "      <td>103.4</td>\n",
       "    </tr>\n",
       "  </tbody>\n",
       "</table>\n",
       "</div>"
      ],
      "text/plain": [
       "   image_id  category_id       area  iscrowd  id      X      Y      W      H\n",
       "0         0            0  257301.66        0   0  197.6  193.7  547.8  469.7\n",
       "1         1            3   10402.56        0   1    0.0  407.4   57.6  180.6\n",
       "2         1            7   26259.36        0   2    0.0  455.6  144.6  181.6\n",
       "3         1            4   69096.17        0   3  722.3  313.4  274.3  251.9\n",
       "4         1            5   24164.58        0   4  353.2  671.0  233.7  103.4"
      ]
     },
     "metadata": {},
     "execution_count": 21
    }
   ],
   "metadata": {}
  },
  {
   "cell_type": "code",
   "execution_count": 22,
   "source": [
    "query = df_anno"
   ],
   "outputs": [],
   "metadata": {}
  },
  {
   "cell_type": "code",
   "execution_count": 44,
   "source": [
    "select_imgs, select_annos = query['image_id'].unique(), query['id'].unique()\n",
    "out_images = df_images_origin[df_images_origin['id'] == select_imgs].to_dict('records')\n",
    "out_annos = df_anno_origin[df_anno_origin['id'] == select_annos].to_dict('records')"
   ],
   "outputs": [],
   "metadata": {}
  },
  {
   "cell_type": "code",
   "execution_count": null,
   "source": [
    "out_info = source_info\n",
    "out_licenses = source_licenses\n",
    "out_images = source_images\n",
    "out_categories = source_categories\n",
    "out_annotations = source_annotations\n",
    "\n",
    "out_images = out_images\n",
    "out_annotations = out_annos\n",
    "\n",
    "custom_json = {\n",
    "                'info' : out_info, \n",
    "                'licenses' : out_licenses, \n",
    "                'images' : out_images, \n",
    "                'categories' : out_categories, \n",
    "                'annotations' : out_annotations\n",
    "            }\n",
    "\n",
    "out_path = os.path.join(custom_json_dir, file_name+extension)   \n",
    "with open(out_path, 'w') as outfile:\n",
    "    json.dump(custom_json, outfile)"
   ],
   "outputs": [],
   "metadata": {}
  }
 ],
 "metadata": {
  "orig_nbformat": 4,
  "language_info": {
   "name": "python",
   "version": "3.7.11",
   "mimetype": "text/x-python",
   "codemirror_mode": {
    "name": "ipython",
    "version": 3
   },
   "pygments_lexer": "ipython3",
   "nbconvert_exporter": "python",
   "file_extension": ".py"
  },
  "kernelspec": {
   "name": "python3",
   "display_name": "Python 3.7.11 64-bit ('detection': conda)"
  },
  "interpreter": {
   "hash": "29b0cbc8c2bc4924fb253dd9334aba0cc9ad3225fd824ea55dea16089b664698"
  }
 },
 "nbformat": 4,
 "nbformat_minor": 2
}
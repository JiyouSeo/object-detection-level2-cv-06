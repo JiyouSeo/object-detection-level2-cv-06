{
 "cells": [
  {
   "cell_type": "code",
   "execution_count": 13,
   "source": [
    "import os\n",
    "import json\n",
    "import random\n",
    "import pandas as pd\n",
    "import numpy as np\n",
    "import seaborn as sns\n",
    "import matplotlib.pyplot as plt"
   ],
   "outputs": [],
   "metadata": {}
  },
  {
   "cell_type": "code",
   "execution_count": 22,
   "source": [
    "data_dir = '/opt/ml/detection/dataset'\n",
    "anno_source = '/opt/ml/detection/dataset/train.json'\n",
    "\n",
    "custom_json_dir = '/opt/ml/detection/cowork/teambase/custom_annos'\n",
    "extension = '.json'\n",
    "train_file_name = 'custom_train'\n",
    "valid_file_name = 'custom_valid'\n",
    "\n",
    "n_samples = 500\n",
    "by_image = False # True"
   ],
   "outputs": [],
   "metadata": {}
  },
  {
   "cell_type": "code",
   "execution_count": 29,
   "source": [
    "def plot_query(query):\n",
    "    print(query[\"category_name\"].value_counts())\n",
    "    sns.set(font_scale=1.)\n",
    "    query[\"category_name\"].value_counts().sort_index().plot(kind='bar', figsize=(12, 6), rot=0)\n",
    "    plt.xlabel(\"category\", labelpad=10)\n",
    "    plt.ylabel(\"frequency\", labelpad=10)\n",
    "    plt.title(\"Distribution of categories\", y=1.02)\n",
    "\n",
    "\n",
    "def mk_json(query, df_image, df_anno, source_info, source_licenses, source_categories, by_image):\n",
    "    select_imgs, select_annos = query['image_id'].unique(), query['id'].unique()\n",
    "    custom_images = df_image[df_image['id'].isin(select_imgs)].to_dict('records')\n",
    "    if by_image:\n",
    "        custom_annos = df_anno[df_anno['image_id'].isin(select_imgs)].to_dict('records')\n",
    "    else:\n",
    "        custom_annos = df_anno[df_anno['id'].isin(select_annos)].to_dict('records')\n",
    "\n",
    "    output_info = source_info\n",
    "    output_licenses = source_licenses\n",
    "    output_categories = source_categories\n",
    "\n",
    "    output_images = custom_images\n",
    "    output_annotations = custom_annos\n",
    "\n",
    "    custom_json = {\n",
    "                'info' : output_info, \n",
    "                'licenses' : output_licenses, \n",
    "                'images' : output_images, \n",
    "                'categories' : output_categories, \n",
    "                'annotations' : output_annotations\n",
    "                }\n",
    "\n",
    "    print(f'selected [{len(custom_json[\"images\"])}] images with [{len(custom_json[\"annotations\"])}] annotations')\n",
    "    return custom_json\n",
    "\n",
    "\n",
    "def save_json(json_dir, file_name, json_data, extension='.json'):\n",
    "    out_path = os.path.join(json_dir, file_name+extension)\n",
    "    with open(out_path, 'w') as outfile:\n",
    "        json.dump(json_data, outfile, indent=2)\n",
    "    print(f\"{file_name} save done!!\")\n",
    "\n",
    "\n",
    "def check_count(train_json, valid_json, query):\n",
    "    assert len(train_json[\"images\"])+len(valid_json[\"images\"]) == len(query.groupby('image_id').size())\n",
    "    print(len(train_json[\"images\"])+len(valid_json[\"images\"]))\n",
    "    return True\n"
   ],
   "outputs": [],
   "metadata": {}
  },
  {
   "cell_type": "code",
   "execution_count": 16,
   "source": [
    "with open(anno_source) as json_file:\n",
    "    source_anns = json.load(json_file)\n",
    "\n",
    "print(source_anns.keys())\n",
    "source_info = source_anns['info']\n",
    "source_licenses = source_anns['licenses']\n",
    "source_images = source_anns['images']\n",
    "source_categories = source_anns['categories']\n",
    "source_annotations = source_anns['annotations']"
   ],
   "outputs": [
    {
     "output_type": "stream",
     "name": "stdout",
     "text": [
      "dict_keys(['info', 'licenses', 'images', 'categories', 'annotations'])\n"
     ]
    }
   ],
   "metadata": {}
  },
  {
   "cell_type": "code",
   "execution_count": 17,
   "source": [
    "df_images_origin = pd.json_normalize(source_images)\n",
    "df_images_origin.head()"
   ],
   "outputs": [
    {
     "output_type": "execute_result",
     "data": {
      "text/html": [
       "<div>\n",
       "<style scoped>\n",
       "    .dataframe tbody tr th:only-of-type {\n",
       "        vertical-align: middle;\n",
       "    }\n",
       "\n",
       "    .dataframe tbody tr th {\n",
       "        vertical-align: top;\n",
       "    }\n",
       "\n",
       "    .dataframe thead th {\n",
       "        text-align: right;\n",
       "    }\n",
       "</style>\n",
       "<table border=\"1\" class=\"dataframe\">\n",
       "  <thead>\n",
       "    <tr style=\"text-align: right;\">\n",
       "      <th></th>\n",
       "      <th>width</th>\n",
       "      <th>height</th>\n",
       "      <th>file_name</th>\n",
       "      <th>license</th>\n",
       "      <th>flickr_url</th>\n",
       "      <th>coco_url</th>\n",
       "      <th>date_captured</th>\n",
       "      <th>id</th>\n",
       "    </tr>\n",
       "  </thead>\n",
       "  <tbody>\n",
       "    <tr>\n",
       "      <th>0</th>\n",
       "      <td>1024</td>\n",
       "      <td>1024</td>\n",
       "      <td>train/0000.jpg</td>\n",
       "      <td>0</td>\n",
       "      <td>None</td>\n",
       "      <td>None</td>\n",
       "      <td>2020-12-26 14:44:23</td>\n",
       "      <td>0</td>\n",
       "    </tr>\n",
       "    <tr>\n",
       "      <th>1</th>\n",
       "      <td>1024</td>\n",
       "      <td>1024</td>\n",
       "      <td>train/0001.jpg</td>\n",
       "      <td>0</td>\n",
       "      <td>None</td>\n",
       "      <td>None</td>\n",
       "      <td>2021-01-10 16:30:39</td>\n",
       "      <td>1</td>\n",
       "    </tr>\n",
       "    <tr>\n",
       "      <th>2</th>\n",
       "      <td>1024</td>\n",
       "      <td>1024</td>\n",
       "      <td>train/0002.jpg</td>\n",
       "      <td>0</td>\n",
       "      <td>None</td>\n",
       "      <td>None</td>\n",
       "      <td>2020-12-27 17:55:52</td>\n",
       "      <td>2</td>\n",
       "    </tr>\n",
       "    <tr>\n",
       "      <th>3</th>\n",
       "      <td>1024</td>\n",
       "      <td>1024</td>\n",
       "      <td>train/0003.jpg</td>\n",
       "      <td>0</td>\n",
       "      <td>None</td>\n",
       "      <td>None</td>\n",
       "      <td>2021-03-31 12:10:36</td>\n",
       "      <td>3</td>\n",
       "    </tr>\n",
       "    <tr>\n",
       "      <th>4</th>\n",
       "      <td>1024</td>\n",
       "      <td>1024</td>\n",
       "      <td>train/0004.jpg</td>\n",
       "      <td>0</td>\n",
       "      <td>None</td>\n",
       "      <td>None</td>\n",
       "      <td>2021-01-01 18:52:38</td>\n",
       "      <td>4</td>\n",
       "    </tr>\n",
       "  </tbody>\n",
       "</table>\n",
       "</div>"
      ],
      "text/plain": [
       "   width  height       file_name  license flickr_url coco_url  \\\n",
       "0   1024    1024  train/0000.jpg        0       None     None   \n",
       "1   1024    1024  train/0001.jpg        0       None     None   \n",
       "2   1024    1024  train/0002.jpg        0       None     None   \n",
       "3   1024    1024  train/0003.jpg        0       None     None   \n",
       "4   1024    1024  train/0004.jpg        0       None     None   \n",
       "\n",
       "         date_captured  id  \n",
       "0  2020-12-26 14:44:23   0  \n",
       "1  2021-01-10 16:30:39   1  \n",
       "2  2020-12-27 17:55:52   2  \n",
       "3  2021-03-31 12:10:36   3  \n",
       "4  2021-01-01 18:52:38   4  "
      ]
     },
     "metadata": {},
     "execution_count": 17
    }
   ],
   "metadata": {}
  },
  {
   "cell_type": "code",
   "execution_count": 18,
   "source": [
    "df_anno_origin = pd.json_normalize(source_annotations)\n",
    "df_anno_origin.head()"
   ],
   "outputs": [
    {
     "output_type": "execute_result",
     "data": {
      "text/html": [
       "<div>\n",
       "<style scoped>\n",
       "    .dataframe tbody tr th:only-of-type {\n",
       "        vertical-align: middle;\n",
       "    }\n",
       "\n",
       "    .dataframe tbody tr th {\n",
       "        vertical-align: top;\n",
       "    }\n",
       "\n",
       "    .dataframe thead th {\n",
       "        text-align: right;\n",
       "    }\n",
       "</style>\n",
       "<table border=\"1\" class=\"dataframe\">\n",
       "  <thead>\n",
       "    <tr style=\"text-align: right;\">\n",
       "      <th></th>\n",
       "      <th>image_id</th>\n",
       "      <th>category_id</th>\n",
       "      <th>area</th>\n",
       "      <th>bbox</th>\n",
       "      <th>iscrowd</th>\n",
       "      <th>id</th>\n",
       "    </tr>\n",
       "  </thead>\n",
       "  <tbody>\n",
       "    <tr>\n",
       "      <th>0</th>\n",
       "      <td>0</td>\n",
       "      <td>0</td>\n",
       "      <td>257301.66</td>\n",
       "      <td>[197.6, 193.7, 547.8, 469.7]</td>\n",
       "      <td>0</td>\n",
       "      <td>0</td>\n",
       "    </tr>\n",
       "    <tr>\n",
       "      <th>1</th>\n",
       "      <td>1</td>\n",
       "      <td>3</td>\n",
       "      <td>10402.56</td>\n",
       "      <td>[0.0, 407.4, 57.6, 180.6]</td>\n",
       "      <td>0</td>\n",
       "      <td>1</td>\n",
       "    </tr>\n",
       "    <tr>\n",
       "      <th>2</th>\n",
       "      <td>1</td>\n",
       "      <td>7</td>\n",
       "      <td>26259.36</td>\n",
       "      <td>[0.0, 455.6, 144.6, 181.6]</td>\n",
       "      <td>0</td>\n",
       "      <td>2</td>\n",
       "    </tr>\n",
       "    <tr>\n",
       "      <th>3</th>\n",
       "      <td>1</td>\n",
       "      <td>4</td>\n",
       "      <td>69096.17</td>\n",
       "      <td>[722.3, 313.4, 274.3, 251.9]</td>\n",
       "      <td>0</td>\n",
       "      <td>3</td>\n",
       "    </tr>\n",
       "    <tr>\n",
       "      <th>4</th>\n",
       "      <td>1</td>\n",
       "      <td>5</td>\n",
       "      <td>24164.58</td>\n",
       "      <td>[353.2, 671.0, 233.7, 103.4]</td>\n",
       "      <td>0</td>\n",
       "      <td>4</td>\n",
       "    </tr>\n",
       "  </tbody>\n",
       "</table>\n",
       "</div>"
      ],
      "text/plain": [
       "   image_id  category_id       area                          bbox  iscrowd  id\n",
       "0         0            0  257301.66  [197.6, 193.7, 547.8, 469.7]        0   0\n",
       "1         1            3   10402.56     [0.0, 407.4, 57.6, 180.6]        0   1\n",
       "2         1            7   26259.36    [0.0, 455.6, 144.6, 181.6]        0   2\n",
       "3         1            4   69096.17  [722.3, 313.4, 274.3, 251.9]        0   3\n",
       "4         1            5   24164.58  [353.2, 671.0, 233.7, 103.4]        0   4"
      ]
     },
     "metadata": {},
     "execution_count": 18
    }
   ],
   "metadata": {}
  },
  {
   "cell_type": "code",
   "execution_count": 19,
   "source": [
    "label_name = [ann_dict['name'] for ann_dict in source_anns['categories']]\n",
    "\n",
    "df_anno = df_anno_origin.copy()\n",
    "df_anno['category_name'] = df_anno['category_id'].apply(lambda x: label_name[x])\n",
    "df_anno[[\"X\",\"Y\",\"W\",\"H\"]] = df_anno['bbox'].tolist()\n",
    "df_anno.drop(columns='bbox', inplace=True)\n",
    "df_anno.head()"
   ],
   "outputs": [
    {
     "output_type": "execute_result",
     "data": {
      "text/html": [
       "<div>\n",
       "<style scoped>\n",
       "    .dataframe tbody tr th:only-of-type {\n",
       "        vertical-align: middle;\n",
       "    }\n",
       "\n",
       "    .dataframe tbody tr th {\n",
       "        vertical-align: top;\n",
       "    }\n",
       "\n",
       "    .dataframe thead th {\n",
       "        text-align: right;\n",
       "    }\n",
       "</style>\n",
       "<table border=\"1\" class=\"dataframe\">\n",
       "  <thead>\n",
       "    <tr style=\"text-align: right;\">\n",
       "      <th></th>\n",
       "      <th>image_id</th>\n",
       "      <th>category_id</th>\n",
       "      <th>area</th>\n",
       "      <th>iscrowd</th>\n",
       "      <th>id</th>\n",
       "      <th>category_name</th>\n",
       "      <th>X</th>\n",
       "      <th>Y</th>\n",
       "      <th>W</th>\n",
       "      <th>H</th>\n",
       "    </tr>\n",
       "  </thead>\n",
       "  <tbody>\n",
       "    <tr>\n",
       "      <th>0</th>\n",
       "      <td>0</td>\n",
       "      <td>0</td>\n",
       "      <td>257301.66</td>\n",
       "      <td>0</td>\n",
       "      <td>0</td>\n",
       "      <td>General trash</td>\n",
       "      <td>197.6</td>\n",
       "      <td>193.7</td>\n",
       "      <td>547.8</td>\n",
       "      <td>469.7</td>\n",
       "    </tr>\n",
       "    <tr>\n",
       "      <th>1</th>\n",
       "      <td>1</td>\n",
       "      <td>3</td>\n",
       "      <td>10402.56</td>\n",
       "      <td>0</td>\n",
       "      <td>1</td>\n",
       "      <td>Metal</td>\n",
       "      <td>0.0</td>\n",
       "      <td>407.4</td>\n",
       "      <td>57.6</td>\n",
       "      <td>180.6</td>\n",
       "    </tr>\n",
       "    <tr>\n",
       "      <th>2</th>\n",
       "      <td>1</td>\n",
       "      <td>7</td>\n",
       "      <td>26259.36</td>\n",
       "      <td>0</td>\n",
       "      <td>2</td>\n",
       "      <td>Plastic bag</td>\n",
       "      <td>0.0</td>\n",
       "      <td>455.6</td>\n",
       "      <td>144.6</td>\n",
       "      <td>181.6</td>\n",
       "    </tr>\n",
       "    <tr>\n",
       "      <th>3</th>\n",
       "      <td>1</td>\n",
       "      <td>4</td>\n",
       "      <td>69096.17</td>\n",
       "      <td>0</td>\n",
       "      <td>3</td>\n",
       "      <td>Glass</td>\n",
       "      <td>722.3</td>\n",
       "      <td>313.4</td>\n",
       "      <td>274.3</td>\n",
       "      <td>251.9</td>\n",
       "    </tr>\n",
       "    <tr>\n",
       "      <th>4</th>\n",
       "      <td>1</td>\n",
       "      <td>5</td>\n",
       "      <td>24164.58</td>\n",
       "      <td>0</td>\n",
       "      <td>4</td>\n",
       "      <td>Plastic</td>\n",
       "      <td>353.2</td>\n",
       "      <td>671.0</td>\n",
       "      <td>233.7</td>\n",
       "      <td>103.4</td>\n",
       "    </tr>\n",
       "  </tbody>\n",
       "</table>\n",
       "</div>"
      ],
      "text/plain": [
       "   image_id  category_id       area  iscrowd  id  category_name      X      Y  \\\n",
       "0         0            0  257301.66        0   0  General trash  197.6  193.7   \n",
       "1         1            3   10402.56        0   1          Metal    0.0  407.4   \n",
       "2         1            7   26259.36        0   2    Plastic bag    0.0  455.6   \n",
       "3         1            4   69096.17        0   3          Glass  722.3  313.4   \n",
       "4         1            5   24164.58        0   4        Plastic  353.2  671.0   \n",
       "\n",
       "       W      H  \n",
       "0  547.8  469.7  \n",
       "1   57.6  180.6  \n",
       "2  144.6  181.6  \n",
       "3  274.3  251.9  \n",
       "4  233.7  103.4  "
      ]
     },
     "metadata": {},
     "execution_count": 19
    }
   ],
   "metadata": {}
  },
  {
   "cell_type": "code",
   "execution_count": 20,
   "source": [
    "query = df_anno[df_anno['area'] > 1000]\n",
    "print(len(query))\n",
    "query.head()\n",
    "# query의 최종 출력엔 원하는 image_id와, id만 있어도 무방합니다."
   ],
   "outputs": [
    {
     "output_type": "stream",
     "name": "stdout",
     "text": [
      "22847\n"
     ]
    },
    {
     "output_type": "execute_result",
     "data": {
      "text/html": [
       "<div>\n",
       "<style scoped>\n",
       "    .dataframe tbody tr th:only-of-type {\n",
       "        vertical-align: middle;\n",
       "    }\n",
       "\n",
       "    .dataframe tbody tr th {\n",
       "        vertical-align: top;\n",
       "    }\n",
       "\n",
       "    .dataframe thead th {\n",
       "        text-align: right;\n",
       "    }\n",
       "</style>\n",
       "<table border=\"1\" class=\"dataframe\">\n",
       "  <thead>\n",
       "    <tr style=\"text-align: right;\">\n",
       "      <th></th>\n",
       "      <th>image_id</th>\n",
       "      <th>category_id</th>\n",
       "      <th>area</th>\n",
       "      <th>iscrowd</th>\n",
       "      <th>id</th>\n",
       "      <th>category_name</th>\n",
       "      <th>X</th>\n",
       "      <th>Y</th>\n",
       "      <th>W</th>\n",
       "      <th>H</th>\n",
       "    </tr>\n",
       "  </thead>\n",
       "  <tbody>\n",
       "    <tr>\n",
       "      <th>0</th>\n",
       "      <td>0</td>\n",
       "      <td>0</td>\n",
       "      <td>257301.66</td>\n",
       "      <td>0</td>\n",
       "      <td>0</td>\n",
       "      <td>General trash</td>\n",
       "      <td>197.6</td>\n",
       "      <td>193.7</td>\n",
       "      <td>547.8</td>\n",
       "      <td>469.7</td>\n",
       "    </tr>\n",
       "    <tr>\n",
       "      <th>1</th>\n",
       "      <td>1</td>\n",
       "      <td>3</td>\n",
       "      <td>10402.56</td>\n",
       "      <td>0</td>\n",
       "      <td>1</td>\n",
       "      <td>Metal</td>\n",
       "      <td>0.0</td>\n",
       "      <td>407.4</td>\n",
       "      <td>57.6</td>\n",
       "      <td>180.6</td>\n",
       "    </tr>\n",
       "    <tr>\n",
       "      <th>2</th>\n",
       "      <td>1</td>\n",
       "      <td>7</td>\n",
       "      <td>26259.36</td>\n",
       "      <td>0</td>\n",
       "      <td>2</td>\n",
       "      <td>Plastic bag</td>\n",
       "      <td>0.0</td>\n",
       "      <td>455.6</td>\n",
       "      <td>144.6</td>\n",
       "      <td>181.6</td>\n",
       "    </tr>\n",
       "    <tr>\n",
       "      <th>3</th>\n",
       "      <td>1</td>\n",
       "      <td>4</td>\n",
       "      <td>69096.17</td>\n",
       "      <td>0</td>\n",
       "      <td>3</td>\n",
       "      <td>Glass</td>\n",
       "      <td>722.3</td>\n",
       "      <td>313.4</td>\n",
       "      <td>274.3</td>\n",
       "      <td>251.9</td>\n",
       "    </tr>\n",
       "    <tr>\n",
       "      <th>4</th>\n",
       "      <td>1</td>\n",
       "      <td>5</td>\n",
       "      <td>24164.58</td>\n",
       "      <td>0</td>\n",
       "      <td>4</td>\n",
       "      <td>Plastic</td>\n",
       "      <td>353.2</td>\n",
       "      <td>671.0</td>\n",
       "      <td>233.7</td>\n",
       "      <td>103.4</td>\n",
       "    </tr>\n",
       "  </tbody>\n",
       "</table>\n",
       "</div>"
      ],
      "text/plain": [
       "   image_id  category_id       area  iscrowd  id  category_name      X      Y  \\\n",
       "0         0            0  257301.66        0   0  General trash  197.6  193.7   \n",
       "1         1            3   10402.56        0   1          Metal    0.0  407.4   \n",
       "2         1            7   26259.36        0   2    Plastic bag    0.0  455.6   \n",
       "3         1            4   69096.17        0   3          Glass  722.3  313.4   \n",
       "4         1            5   24164.58        0   4        Plastic  353.2  671.0   \n",
       "\n",
       "       W      H  \n",
       "0  547.8  469.7  \n",
       "1   57.6  180.6  \n",
       "2  144.6  181.6  \n",
       "3  274.3  251.9  \n",
       "4  233.7  103.4  "
      ]
     },
     "metadata": {},
     "execution_count": 20
    }
   ],
   "metadata": {}
  },
  {
   "cell_type": "code",
   "execution_count": 21,
   "source": [
    "valid_idx = random.sample(range(len(df_images_origin)), n_samples)\n",
    "valid_query = query[query['image_id'].isin(valid_idx)]\n",
    "train_query = query.drop(valid_query.index)"
   ],
   "outputs": [
    {
     "output_type": "execute_result",
     "data": {
      "text/plain": [
       "4883"
      ]
     },
     "metadata": {},
     "execution_count": 21
    }
   ],
   "metadata": {}
  },
  {
   "cell_type": "code",
   "execution_count": 23,
   "source": [
    "plot_query(train_query)"
   ],
   "outputs": [
    {
     "output_type": "stream",
     "name": "stdout",
     "text": [
      "Paper            5674\n",
      "Plastic bag      4583\n",
      "General trash    3501\n",
      "Plastic          2584\n",
      "Styrofoam        1128\n",
      "Glass             894\n",
      "Metal             833\n",
      "Paper pack        777\n",
      "Clothing          402\n",
      "Battery           145\n",
      "Name: category_name, dtype: int64\n"
     ]
    },
    {
     "output_type": "display_data",
     "data": {
      "image/png": "[encoded data removed]",
      "text/plain": [
       "<Figure size 864x432 with 1 Axes>"
      ]
     },
     "metadata": {}
    }
   ],
   "metadata": {}
  },
  {
   "cell_type": "code",
   "execution_count": 24,
   "source": [
    "plot_query(valid_query)"
   ],
   "outputs": [
    {
     "output_type": "stream",
     "name": "stdout",
     "text": [
      "Paper            586\n",
      "Plastic bag      562\n",
      "General trash    368\n",
      "Plastic          320\n",
      "Styrofoam        129\n",
      "Paper pack       114\n",
      "Metal             87\n",
      "Glass             82\n",
      "Clothing          64\n",
      "Battery           14\n",
      "Name: category_name, dtype: int64\n"
     ]
    },
    {
     "output_type": "display_data",
     "data": {
      "image/png": "[encoded data removed]",
      "text/plain": [
       "<Figure size 864x432 with 1 Axes>"
      ]
     },
     "metadata": {}
    }
   ],
   "metadata": {}
  },
  {
   "cell_type": "code",
   "execution_count": 25,
   "source": [
    "train_json = mk_json(train_query, df_images_origin, df_anno_origin, source_info, source_licenses, source_categories, by_image=False)\n",
    "valid_json = mk_json(valid_query, df_images_origin, df_anno_origin, source_info, source_licenses, source_categories, by_image=False)"
   ],
   "outputs": [
    {
     "output_type": "stream",
     "name": "stdout",
     "text": [
      "selected [4383] images with [20521] annotations\n",
      "selected [500] images with [2326] annotations\n"
     ]
    }
   ],
   "metadata": {}
  },
  {
   "cell_type": "code",
   "execution_count": 30,
   "source": [
    "if check_count(train_json, valid_json, query):\n",
    "    save_json(custom_json_dir, train_file_name, train_json)\n",
    "    save_json(custom_json_dir, valid_file_name, valid_json)"
   ],
   "outputs": [
    {
     "output_type": "stream",
     "name": "stdout",
     "text": [
      "4883\n",
      "custom_train save done!!\n",
      "custom_valid save done!!\n"
     ]
    }
   ],
   "metadata": {}
  },
  {
   "cell_type": "code",
   "execution_count": null,
   "source": [],
   "outputs": [],
   "metadata": {}
  }
 ],
 "metadata": {
  "orig_nbformat": 4,
  "language_info": {
   "name": "python",
   "version": "3.7.11",
   "mimetype": "text/x-python",
   "codemirror_mode": {
    "name": "ipython",
    "version": 3
   },
   "pygments_lexer": "ipython3",
   "nbconvert_exporter": "python",
   "file_extension": ".py"
  },
  "kernelspec": {
   "name": "python3",
   "display_name": "Python 3.7.11 64-bit ('detection': conda)"
  },
  "interpreter": {
   "hash": "29b0cbc8c2bc4924fb253dd9334aba0cc9ad3225fd824ea55dea16089b664698"
  }
 },
 "nbformat": 4,
 "nbformat_minor": 2
}
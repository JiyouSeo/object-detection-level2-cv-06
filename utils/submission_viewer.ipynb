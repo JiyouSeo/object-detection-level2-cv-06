{
 "cells": [
  {
   "cell_type": "code",
   "execution_count": null,
   "metadata": {},
   "outputs": [],
   "source": [
    "import os\n",
    "import numpy as np\n",
    "import pandas as pd\n",
    "import cv2\n",
    "import matplotlib.pyplot as plt\n",
    "import matplotlib.patches as patches"
   ]
  },
  {
   "cell_type": "code",
   "execution_count": null,
   "metadata": {},
   "outputs": [],
   "source": [
    "class_full_name_list = ['General trash', 'Paper', 'Paper pack', 'Metal', 'Glass', 'Plastic', 'Styrofoam', 'Plastic bag', 'Battery', 'Clothing']\n",
    "class_short_name_list = ['General', 'Paper', 'Pack', 'Metal', 'Glass', 'Plastic', 'Foam', 'Bag', 'Battery', 'Cloth']\n",
    "class_color_list = [\n",
    "    [250,0,50], \n",
    "    [0, 255, 0], \n",
    "    [0, 180, 80], \n",
    "    [185, 185, 185], \n",
    "    [100, 100, 100], \n",
    "    [200, 50, 150], \n",
    "    [50, 150, 200], \n",
    "    [50, 200, 150], \n",
    "    [200, 200, 200], \n",
    "    [255,255,255], \n",
    "]\n",
    "class_color_list = [(np.array(RGB)/255).tolist() for RGB in class_color_list]\n",
    "boxform = [{'boxstyle': 'round', 'ec': RGB, 'fc': RGB, 'alpha': 1} for RGB in class_color_list] # 'fc': np.clip(np.array(RGB)*10, 0., 1.)"
   ]
  },
  {
   "cell_type": "code",
   "execution_count": null,
   "metadata": {},
   "outputs": [],
   "source": [
    "def show_bbox_image(image_id, PredictionString, ax=None, thr=0.5, image_path='/opt/ml/detection/dataset/', text_label=True, image_label=True):\n",
    "    flag = ax\n",
    "    if not flag:\n",
    "        fig, ax = plt.subplots(figsize=(12, 13))\n",
    "\n",
    "    image = cv2.imread(os.path.join(image_path, image_id))\n",
    "    image = cv2.cvtColor(image, cv2.COLOR_BGR2RGB)#.astype(np.float32)\n",
    "    ax.imshow(image)\n",
    "\n",
    "    bboxes = PredictionString.split(' ')\n",
    "    # bboxes = list(map(float, bboxes))\n",
    "\n",
    "    ax.set_title(f\"total : {len(bboxes)//6} labels\", fontsize=24)\n",
    "    ax.axis('off')\n",
    "\n",
    "    for idx in range(len(bboxes)//6):\n",
    "        label, score, x_min, y_min, x_max, y_max = bboxes[6*idx:6*idx+6]\n",
    "        label, score, x_min, y_min, x_max, y_max = int(label), float(score), float(x_min), float(y_min), float(x_max), float(y_max)\n",
    "        \n",
    "        if score < thr: continue\n",
    "        \n",
    "        if text_label:\n",
    "            print(f\"{class_full_name_list[label]:>15} : {score:.3f}\")\n",
    "        \n",
    "        rect = patches.Rectangle(\n",
    "                (x_min, y_min),\n",
    "                x_max-x_min,\n",
    "                y_max-y_min,\n",
    "                edgecolor = class_color_list[label],\n",
    "                fill=False,\n",
    "        ) \n",
    "        ax.add_patch(rect)\n",
    "\n",
    "        if image_label:\n",
    "            box = boxform[label]\n",
    "            # box['alpha'] = 1-score\n",
    "            box['alpha'] = score\n",
    "            ax.text(x_min, y_min, f'{class_full_name_list[label]}\\n{score:.3f}', fontsize=16, horizontalalignment='left', verticalalignment='bottom', bbox=boxform[label])\n",
    "    \n",
    "    if not flag:\n",
    "        plt.show()\n"
   ]
  },
  {
   "cell_type": "code",
   "execution_count": null,
   "metadata": {},
   "outputs": [],
   "source": [
    "# single view\n",
    "csv_path = '/opt/ml/detection/utils/ensemble_models/output/ensenble0.618.csv'\n",
    "df = pd.read_csv(csv_path)\n",
    "\n",
    "rand_index = np.random.randint(0,len(df),10)\n",
    "\n",
    "index = [ 541, 4087, 4717, 3614, 3891, 4090, 1466, 2409, 2866, 3258]\n",
    "for PredictionString, image_id in df.iloc[rand_index].values:\n",
    "    show_bbox_image(image_id, PredictionString, thr=0)"
   ]
  },
  {
   "cell_type": "code",
   "execution_count": null,
   "metadata": {},
   "outputs": [],
   "source": [
    "dfs[2][dfs[2]['image_id'] == f'test/{idx:0>4d}.jpg']"
   ]
  },
  {
   "cell_type": "code",
   "execution_count": null,
   "metadata": {},
   "outputs": [],
   "source": [
    "# multi view\n",
    "csv_path = ['/opt/ml/detection/utils/ensemble_models/univ_swin(argu)_nmw.csv', \n",
    "            '/opt/ml/detection/utils/ensemble_models/yolo50.469.csv', \n",
    "            '/opt/ml/detection/utils/ensemble_models/swin.csv',\n",
    "            '/opt/ml/detection/utils/ensemble_models/swin_arug.csv']\n",
    "\n",
    "\n",
    "filenames = []\n",
    "dfs = []\n",
    "for path in csv_path:\n",
    "    dfs.append(pd.read_csv(path))\n",
    "    filenames.append(os.path.basename(path))\n",
    "\n",
    "rand_index = np.random.randint(0,len(dfs[0]),10)\n",
    "# index = [ 541, 4087, 4717, 3614, 3891, 4090, 1466, 2409, 2866, 3258]\n",
    "index = [2711, 2816,  617, 2004, 3632, 4054,  926, 4382, 2901, 3637]\n",
    "\n",
    "print(f\"selected filenames : {filenames}\")\n",
    "print(f\"selected index : {index}\")\n",
    "\n",
    "view_size = 8\n",
    "fig, axes = plt.subplots(len(index), len(csv_path), sharex=True, sharey=True, figsize=(view_size*len(csv_path), view_size*len(index)+2))\n",
    "for row, idx in enumerate(index):\n",
    "    for col, df in enumerate(dfs):\n",
    "        condition = df['image_id'] == f'test/{idx:0>4d}.jpg'\n",
    "\n",
    "        if condition.any():\n",
    "            image_info = df[condition].values\n",
    "            if len(image_info) > 1:\n",
    "                print(\"submission has too many row in same id\")\n",
    "\n",
    "            PredictionString, image_id = image_info[0]\n",
    "\n",
    "            if type(PredictionString) == str:\n",
    "                show_bbox_image(image_id, PredictionString, thr=0, ax=axes[row,col], text_label=False, image_label=True)\n",
    "plt.show()"
   ]
  },
  {
   "cell_type": "code",
   "execution_count": null,
   "metadata": {},
   "outputs": [],
   "source": []
  },
  {
   "cell_type": "code",
   "execution_count": null,
   "metadata": {},
   "outputs": [],
   "source": []
  }
 ],
 "metadata": {
  "interpreter": {
   "hash": "b94c6de4bce9a87a354a5fa9998691adc0532adddb9d4140f5ba941d00b01fae"
  },
  "kernelspec": {
   "display_name": "Python 3.7.11 64-bit ('detection': conda)",
   "name": "python3"
  },
  "language_info": {
   "codemirror_mode": {
    "name": "ipython",
    "version": 3
   },
   "file_extension": ".py",
   "mimetype": "text/x-python",
   "name": "python",
   "nbconvert_exporter": "python",
   "pygments_lexer": "ipython3",
   "version": "3.7.11"
  },
  "orig_nbformat": 4
 },
 "nbformat": 4,
 "nbformat_minor": 2
}

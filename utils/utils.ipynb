{
 "cells": [
  {
   "cell_type": "code",
   "execution_count": 10,
   "source": [
    "from pycocotools.coco import COCO\n",
    "import os\n",
    "import json\n",
    "import pandas as pd\n",
    "import numpy as np\n",
    "import matplotlib.pyplot as plt\n"
   ],
   "outputs": [],
   "metadata": {}
  },
  {
   "cell_type": "markdown",
   "source": [
    "## JSON to DataFrame"
   ],
   "metadata": {}
  },
  {
   "cell_type": "code",
   "execution_count": 11,
   "source": [
    "data_dir = '/opt/ml/detection/dataset'\n",
    "anno_root = os.path.join(data_dir, 'train.json')\n",
    "\n",
    "with open(anno_root) as json_file:\n",
    "    anns = json.load(json_file)\n",
    "\n",
    "label_name = [ann_dict['name'] for ann_dict in anns['categories']]\n",
    "\n",
    "df = pd.json_normalize(anns['annotations'])\n",
    "df[[\"X_min\", \"Y_min\", \"Width\", \"Height\"]] = list(df.bbox)\n",
    "df.drop(columns='bbox', inplace=True)\n",
    "df['image_path'] = df['image_id'].apply(lambda x: 'train/'+str(x).zfill(4)+'.jpg')\n",
    "df['sqrt_area'] = np.sqrt(df['area'])\n",
    "df['category_name'] = df['category_id'].apply(lambda x: label_name[x])\n",
    "df = df[['id', 'image_id', 'image_path', 'category_id', 'category_name', 'area', 'sqrt_area', 'X_min', 'Y_min', 'Width', 'Height', 'iscrowd']]\n",
    "if len(df['iscrowd'].unique()) == 1:\n",
    "    df.drop(columns='iscrowd', inplace=True)\n",
    "\n",
    "print(len(df))\n",
    "df.head()"
   ],
   "outputs": [
    {
     "output_type": "stream",
     "name": "stdout",
     "text": [
      "23144\n"
     ]
    },
    {
     "output_type": "execute_result",
     "data": {
      "text/html": [
       "<div>\n",
       "<style scoped>\n",
       "    .dataframe tbody tr th:only-of-type {\n",
       "        vertical-align: middle;\n",
       "    }\n",
       "\n",
       "    .dataframe tbody tr th {\n",
       "        vertical-align: top;\n",
       "    }\n",
       "\n",
       "    .dataframe thead th {\n",
       "        text-align: right;\n",
       "    }\n",
       "</style>\n",
       "<table border=\"1\" class=\"dataframe\">\n",
       "  <thead>\n",
       "    <tr style=\"text-align: right;\">\n",
       "      <th></th>\n",
       "      <th>id</th>\n",
       "      <th>image_id</th>\n",
       "      <th>image_path</th>\n",
       "      <th>category_id</th>\n",
       "      <th>category_name</th>\n",
       "      <th>area</th>\n",
       "      <th>sqrt_area</th>\n",
       "      <th>X_min</th>\n",
       "      <th>Y_min</th>\n",
       "      <th>Width</th>\n",
       "      <th>Height</th>\n",
       "    </tr>\n",
       "  </thead>\n",
       "  <tbody>\n",
       "    <tr>\n",
       "      <th>0</th>\n",
       "      <td>0</td>\n",
       "      <td>0</td>\n",
       "      <td>train/0000.jpg</td>\n",
       "      <td>0</td>\n",
       "      <td>General trash</td>\n",
       "      <td>257301.66</td>\n",
       "      <td>507.249110</td>\n",
       "      <td>197.6</td>\n",
       "      <td>193.7</td>\n",
       "      <td>547.8</td>\n",
       "      <td>469.7</td>\n",
       "    </tr>\n",
       "    <tr>\n",
       "      <th>1</th>\n",
       "      <td>1</td>\n",
       "      <td>1</td>\n",
       "      <td>train/0001.jpg</td>\n",
       "      <td>3</td>\n",
       "      <td>Metal</td>\n",
       "      <td>10402.56</td>\n",
       "      <td>101.992941</td>\n",
       "      <td>0.0</td>\n",
       "      <td>407.4</td>\n",
       "      <td>57.6</td>\n",
       "      <td>180.6</td>\n",
       "    </tr>\n",
       "    <tr>\n",
       "      <th>2</th>\n",
       "      <td>2</td>\n",
       "      <td>1</td>\n",
       "      <td>train/0001.jpg</td>\n",
       "      <td>7</td>\n",
       "      <td>Plastic bag</td>\n",
       "      <td>26259.36</td>\n",
       "      <td>162.047400</td>\n",
       "      <td>0.0</td>\n",
       "      <td>455.6</td>\n",
       "      <td>144.6</td>\n",
       "      <td>181.6</td>\n",
       "    </tr>\n",
       "    <tr>\n",
       "      <th>3</th>\n",
       "      <td>3</td>\n",
       "      <td>1</td>\n",
       "      <td>train/0001.jpg</td>\n",
       "      <td>4</td>\n",
       "      <td>Glass</td>\n",
       "      <td>69096.17</td>\n",
       "      <td>262.861503</td>\n",
       "      <td>722.3</td>\n",
       "      <td>313.4</td>\n",
       "      <td>274.3</td>\n",
       "      <td>251.9</td>\n",
       "    </tr>\n",
       "    <tr>\n",
       "      <th>4</th>\n",
       "      <td>4</td>\n",
       "      <td>1</td>\n",
       "      <td>train/0001.jpg</td>\n",
       "      <td>5</td>\n",
       "      <td>Plastic</td>\n",
       "      <td>24164.58</td>\n",
       "      <td>155.449606</td>\n",
       "      <td>353.2</td>\n",
       "      <td>671.0</td>\n",
       "      <td>233.7</td>\n",
       "      <td>103.4</td>\n",
       "    </tr>\n",
       "  </tbody>\n",
       "</table>\n",
       "</div>"
      ],
      "text/plain": [
       "   id  image_id      image_path  category_id  category_name       area  \\\n",
       "0   0         0  train/0000.jpg            0  General trash  257301.66   \n",
       "1   1         1  train/0001.jpg            3          Metal   10402.56   \n",
       "2   2         1  train/0001.jpg            7    Plastic bag   26259.36   \n",
       "3   3         1  train/0001.jpg            4          Glass   69096.17   \n",
       "4   4         1  train/0001.jpg            5        Plastic   24164.58   \n",
       "\n",
       "    sqrt_area  X_min  Y_min  Width  Height  \n",
       "0  507.249110  197.6  193.7  547.8   469.7  \n",
       "1  101.992941    0.0  407.4   57.6   180.6  \n",
       "2  162.047400    0.0  455.6  144.6   181.6  \n",
       "3  262.861503  722.3  313.4  274.3   251.9  \n",
       "4  155.449606  353.2  671.0  233.7   103.4  "
      ]
     },
     "metadata": {},
     "execution_count": 11
    }
   ],
   "metadata": {}
  },
  {
   "cell_type": "markdown",
   "source": [
    "## bbox 면적이 20000이하인 데이터"
   ],
   "metadata": {}
  },
  {
   "cell_type": "code",
   "execution_count": 12,
   "source": [
    "query = df[df['area'] < 20000]['id']\n",
    "query"
   ],
   "outputs": [
    {
     "output_type": "execute_result",
     "data": {
      "text/plain": [
       "1            1\n",
       "7            7\n",
       "8            8\n",
       "12          12\n",
       "17          17\n",
       "         ...  \n",
       "23131    23131\n",
       "23132    23132\n",
       "23136    23136\n",
       "23137    23137\n",
       "23141    23141\n",
       "Name: id, Length: 8543, dtype: int64"
      ]
     },
     "metadata": {},
     "execution_count": 12
    }
   ],
   "metadata": {}
  },
  {
   "cell_type": "markdown",
   "source": [
    "## image당 bbox의 개수가 5개 이하인 데이터"
   ],
   "metadata": {}
  },
  {
   "cell_type": "code",
   "execution_count": 13,
   "source": [
    "query = df.groupby('image_id').size()\n",
    "image_paths = sorted(list(set(df['image_id'].values)))\n",
    "fivebbox = [path for path in image_paths if query[path] <= 5]\n",
    "fivebbox[:5]"
   ],
   "outputs": [
    {
     "output_type": "execute_result",
     "data": {
      "text/plain": [
       "[0, 2, 3, 6, 7]"
      ]
     },
     "metadata": {},
     "execution_count": 13
    }
   ],
   "metadata": {}
  },
  {
   "cell_type": "markdown",
   "source": [
    "## export JSON"
   ],
   "metadata": {}
  },
  {
   "cell_type": "code",
   "execution_count": 14,
   "source": [
    "def read_json(root):\n",
    "    with open(root, 'r') as f:\n",
    "        json_data = json.load(f)\n",
    "    return json_data\n",
    "\n",
    "\n",
    "def get_area_ids(dataframe, minimum=None, maximum=None):\n",
    "    if (maximum) and (not minimum):\n",
    "        return dataframe[dataframe['area'] <= maximum]['id'].values\n",
    "    elif (not maximum) and (minimum):\n",
    "        return dataframe[dataframe['area'] >= minimum]['id'].values\n",
    "    elif (maximum) and (minimum):\n",
    "        return dataframe[dataframe['area'] >= minimum and dataframe['area'] <= maximum].values\n",
    "    elif (not maximum) and (not minimum):\n",
    "        print(\"input limitation values!!\")\n",
    "\n",
    "\n",
    "def get_bbox_ids(dataframe, minimum=None, maximum=None):\n",
    "    query = dataframe.groupby('image_id').size()\n",
    "    image_ids = sorted(list(set(df['image_id'].values)))\n",
    "    if (maximum) and (not minimum):\n",
    "        return [i for i in image_ids if query[i] <= maximum]\n",
    "    elif (not maximum) and (minimum):\n",
    "        return [i for i in image_ids if query[i] >= minimum]\n",
    "    elif (maximum) and (minimum):\n",
    "        return [i for i in image_ids if (query[i] >= minimum) and (query[i] <= maximum)]\n",
    "    elif (not maximum) and (not minimum):\n",
    "        print(\"input limitation values!!\")\n",
    "\n",
    "\n",
    "def save_json(anno_root, ids, save_dir):\n",
    "    json_file = read_json(anno_root)\n",
    "    json_file['images'] = [image for image in json_file['images'] if image['id'] in ids]\n",
    "    json_file['annotations'] = [anno for anno in json_file['annotations'] if anno['image_id'] in ids]\n",
    "    \n",
    "    with open(save_dir, 'w', encoding='utf-8') as save_file:\n",
    "        json.dump(json_file, save_file, indent='\\t')\n",
    "    \n",
    "    print(f'json file: {save_dir} save done!')\n"
   ],
   "outputs": [],
   "metadata": {}
  },
  {
   "cell_type": "code",
   "execution_count": 16,
   "source": [
    "anno_root = os.path.join(data_dir, 'train.json')\n",
    "save_dir = '../utils/area20000.json'\n",
    "\n",
    "ids = get_area_ids(df, maximum=20000)\n",
    "print(ids[:10])\n",
    "\n",
    "save_json(anno_root, ids, save_dir)"
   ],
   "outputs": [
    {
     "output_type": "stream",
     "name": "stdout",
     "text": [
      "[ 1  7  8 12 17 19 20 21 22 23]\n",
      "json file: ../utils/area20000.json save done!\n"
     ]
    }
   ],
   "metadata": {}
  }
 ],
 "metadata": {
  "orig_nbformat": 4,
  "language_info": {
   "name": "python",
   "version": "3.7.11",
   "mimetype": "text/x-python",
   "codemirror_mode": {
    "name": "ipython",
    "version": 3
   },
   "pygments_lexer": "ipython3",
   "nbconvert_exporter": "python",
   "file_extension": ".py"
  },
  "kernelspec": {
   "name": "python3",
   "display_name": "Python 3.7.11 64-bit ('detection': conda)"
  },
  "interpreter": {
   "hash": "29b0cbc8c2bc4924fb253dd9334aba0cc9ad3225fd824ea55dea16089b664698"
  }
 },
 "nbformat": 4,
 "nbformat_minor": 2
}
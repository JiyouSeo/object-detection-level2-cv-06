{
 "cells": [
  {
   "cell_type": "code",
   "execution_count": null,
   "source": [
    "# 라이브러리 및 모듈 import\n",
    "from pycocotools.coco import COCO\n",
    "from pycocotools.cocoeval import COCOeval\n",
    "import numpy as np\n",
    "import pandas as pd\n",
    "import cv2\n",
    "import os\n",
    "import torch\n",
    "from torch.utils.data import DataLoader, Dataset\n",
    "import albumentations as A\n",
    "from albumentations.pytorch import ToTensorV2\n",
    "import pandas as pd\n",
    "from tqdm.notebook import tqdm\n",
    "import json\n",
    "\n",
    "import matplotlib.pyplot as plt\n",
    "import seaborn as sns\n",
    "\n",
    "import matplotlib.patches as patches\n",
    "from collections import Counter\n",
    "\n",
    "sns.set_style(\"darkgrid\")"
   ],
   "outputs": [],
   "metadata": {}
  },
  {
   "cell_type": "markdown",
   "source": [
    "## Data path Setting"
   ],
   "metadata": {}
  },
  {
   "cell_type": "code",
   "execution_count": null,
   "source": [
    "annotation = '../../dataset/train.json'\n",
    "data_dir = '../../dataset'"
   ],
   "outputs": [],
   "metadata": {}
  },
  {
   "cell_type": "markdown",
   "source": [
    "## DataFrame 생성"
   ],
   "metadata": {}
  },
  {
   "cell_type": "code",
   "execution_count": null,
   "source": [
    "with open(annotation) as json_file:\n",
    "    anns = json.load(json_file)\n",
    "\n",
    "print(anns.keys())\n",
    "# print(json.dumps(anns['info'], indent=4))\n",
    "# print(json.dumps(anns['licenses'], indent=4))\n",
    "# print(json.dumps(anns['images'], indent=4))\n",
    "# print(json.dumps(anns['categories'], indent=4))\n",
    "# print(json.dumps(anns['annotations'][0], indent=4))\n",
    "print()\n",
    "\n",
    "label_name = [ann_dict['name'] for ann_dict in anns['categories']]\n",
    "print(f\"labels : {label_name}\")\n",
    "\n",
    "df = pd.json_normalize(anns['annotations'])\n",
    "df[[\"X\",\"Y\",\"W\",\"H\"]] = list(df.bbox)\n",
    "df.drop(columns='bbox', inplace=True)\n",
    "# df['WH_ratio'] = df['W']/df['H']\n",
    "# df['HW_ratio'] = df['H']/df['W']\n",
    "df['sqrt_area'] = np.sqrt(df['area'])\n",
    "df['category_name'] = df['category_id'].apply(lambda x: label_name[x])\n",
    "df = df[['id', 'image_id', 'category_id', 'category_name', 'area', 'sqrt_area', 'X', 'Y', 'W', 'H', 'iscrowd']]\n",
    "if len(df['iscrowd'].unique()) == 1:\n",
    "    df.drop(columns='iscrowd', inplace=True)\n",
    "\n",
    "print(f\"num of image : {len(df['image_id'].unique())}\")\n",
    "df.sample(10)"
   ],
   "outputs": [],
   "metadata": {}
  },
  {
   "cell_type": "markdown",
   "source": [
    "## DF Describe"
   ],
   "metadata": {}
  },
  {
   "cell_type": "code",
   "execution_count": null,
   "source": [
    "df.describe().round(2)"
   ],
   "outputs": [],
   "metadata": {}
  },
  {
   "cell_type": "markdown",
   "source": [
    "## Class 분포\n",
    "- 전체 오브젝트들의 class 분포를 살펴봅니다."
   ],
   "metadata": {}
  },
  {
   "cell_type": "code",
   "execution_count": null,
   "source": [
    "fig, ax = plt.subplots(figsize=(16, 9))\n",
    "sns.countplot(x='category_id', data=df, ax=ax)\n",
    "ax.set(xticks=range(len(label_name)), xticklabels=label_name)\n",
    "\n",
    "for idx, val in df['category_id'].value_counts().sort_index().iteritems():\n",
    "    ax.text(x=idx, y=val, s=val,\n",
    "            va='bottom', ha='center',\n",
    "            fontsize=10, fontweight='semibold'\n",
    "           )\n",
    "\n",
    "plt.show()"
   ],
   "outputs": [],
   "metadata": {}
  },
  {
   "cell_type": "markdown",
   "source": [
    "## Image당 지표 확인\n",
    "- 전체 데이터에서 이미지당 포함된 class의 갯수와 object의 갯수를 추출합니다."
   ],
   "metadata": {}
  },
  {
   "cell_type": "code",
   "execution_count": null,
   "source": [
    "img_by = df[['image_id', 'category_id']].groupby(['image_id']).agg([pd.Series.count, pd.Series.nunique])\n",
    "img_by.columns = list(map(lambda x: 'cat_' + x[1],img_by.columns))\n",
    "img_by.sample(10)"
   ],
   "outputs": [],
   "metadata": {}
  },
  {
   "cell_type": "code",
   "execution_count": null,
   "source": [
    "img_by.describe()"
   ],
   "outputs": [],
   "metadata": {}
  },
  {
   "cell_type": "code",
   "execution_count": null,
   "source": [
    "fig, ax = plt.subplots(figsize=(16, 9))\n",
    "# sns.kdeplot(x='W', y='H', hue='category_name', data=df, ax=ax)\n",
    "sns.boxplot(data=img_by, ax=ax)\n",
    "plt.show()"
   ],
   "outputs": [],
   "metadata": {}
  },
  {
   "cell_type": "markdown",
   "source": [
    "## Image당 지표 시각화"
   ],
   "metadata": {}
  },
  {
   "cell_type": "code",
   "execution_count": null,
   "source": [
    "fig = plt.figure(figsize=(12, 12))\n",
    "gs = fig.add_gridspec(7, 7) # make 3 by 3 grid (row, col)\n",
    "axes = [None for _ in range(3)]\n",
    "\n",
    "axes[0] = fig.add_subplot(gs[0, :6])\n",
    "axes[1] = fig.add_subplot(gs[1:, :6])\n",
    "axes[2] = fig.add_subplot(gs[1:, 6])\n",
    "\n",
    "sns.boxplot(x='cat_nunique', y='cat_count', data=img_by, width=0.3, linewidth=2, fliersize=4, ax=axes[1])\n",
    "# sns.boxenplot(x='cat_nunique', y='cat_count', data=img_by, width=0.3, linewidth=2, ax=axes[1])\n",
    "ylim = axes[1].get_ylim()\n",
    "\n",
    "sns.countplot(x='cat_nunique', data=img_by, ax=axes[0])\n",
    "# sns.histplot(x='cat_nunique', data=img_by, bins=6, ax=axes[0])\n",
    "# axes[0].spines[['top', 'bottom', 'right']].set_visible(False)\n",
    "axes[0].xaxis.set_visible(False)\n",
    "# axes[0].grid()\n",
    "for idx, val in img_by['cat_nunique'].value_counts().iteritems():\n",
    "    if val > 2000:\n",
    "        axes[0].text(x=idx-1, y=val-150, s=val,\n",
    "                va='top', ha='center',\n",
    "                fontsize=10, fontweight='semibold', color='w'\n",
    "            )\n",
    "    else:\n",
    "        axes[0].text(x=idx-1, y=val, s=val,\n",
    "                va='bottom', ha='center',\n",
    "                fontsize=10, fontweight='semibold'\n",
    "            )\n",
    "\n",
    "sns.countplot(y='cat_count', data=img_by, order=list(range(img_by['cat_count'].max()+1)), ax=axes[2])\n",
    "axes[2].set_ylim(ylim)\n",
    "# sns.histplot(y='cat_count', data=img_by, bins=71, ax=axes[2])\n",
    "# axes[2].spines[['top', 'right', 'left']].set_visible(False)\n",
    "axes[2].yaxis.set_visible(False)\n",
    "# axes[2].grid()\n",
    "axes[2].axvline(x=100, color='royalblue', linestyle='--', linewidth=1, alpha=0.5)\n",
    "axes[2].text(x=200, y=-1, s='100', color='royalblue',\n",
    "            va='top', ha='left',\n",
    "            fontsize=10, fontweight='semibold', alpha=0.7\n",
    "           )\n",
    "\n",
    "plt.tight_layout()\n",
    "plt.show()"
   ],
   "outputs": [],
   "metadata": {}
  },
  {
   "cell_type": "markdown",
   "source": [
    "## Image 단위 지표 요약\n",
    "- 대부분의 이미지당 오브젝트 5개 이하, 클래스종류 2개이하를 포함한다.\n"
   ],
   "metadata": {}
  },
  {
   "cell_type": "code",
   "execution_count": null,
   "source": [
    "fig, axes = plt.subplots(1,2, figsize=(20, 10))\n",
    "sns.kdeplot(x='sqrt_area', hue='category_name', data=df, bw_method=0.2, ax=axes[0])\n",
    "axes[0].axvline(x=df['sqrt_area'].mean(), color='tomato', linestyle='--', linewidth=1)\n",
    "\n",
    "# sns.histplot(x='sqrt_area', hue='category_id' ,data=df, ax=axes[0])\n",
    "sns.boxplot(x='category_id', y='sqrt_area', data=df, width=0.3, linewidth=2, fliersize=4, ax=axes[1])\n",
    "axes[1].set(xticks=range(len(label_name)), xticklabels=label_name)\n",
    "axes[1].axhline(y=df['sqrt_area'].mean(), color='tomato', linestyle='--', linewidth=1)\n",
    "plt.show()"
   ],
   "outputs": [],
   "metadata": {}
  },
  {
   "cell_type": "code",
   "execution_count": null,
   "source": [
    "fig, ax = plt.subplots(figsize=(16, 9))\n",
    "sns.kdeplot(x='W', y='H', hue='category_name', data=df, ax=ax)\n",
    "plt.show()"
   ],
   "outputs": [],
   "metadata": {}
  },
  {
   "cell_type": "code",
   "execution_count": null,
   "source": [
    "# fig, ax = plt.subplots(figsize=(16, 9))\n",
    "sns.lmplot(x='W', y='H', hue='category_name', data=df, scatter_kws={'alpha':0.1}, height=10)\n",
    "plt.show()"
   ],
   "outputs": [],
   "metadata": {}
  },
  {
   "cell_type": "code",
   "execution_count": null,
   "source": [
    "# fig, ax = plt.subplots(figsize=(16, 9))\n",
    "sns.lmplot(x='W', y='H', hue='category_name', data=df, row='category_name', scatter_kws={'alpha':0.1})\n",
    "plt.show()"
   ],
   "outputs": [],
   "metadata": {}
  },
  {
   "cell_type": "code",
   "execution_count": null,
   "source": [
    "fig, ax = plt.subplots(figsize=(12, 12))\n",
    "sns.kdeplot(x='X', y='Y', hue='category_name', data=df, ax=ax)\n",
    "plt.show()"
   ],
   "outputs": [],
   "metadata": {}
  },
  {
   "cell_type": "code",
   "execution_count": null,
   "source": [
    "# fig, ax = plt.subplots(figsize=(16, 9))\n",
    "sns.lmplot(x='X', y='Y', hue='category_name', data=df, scatter_kws={'alpha':0.1}, height=10)\n",
    "plt.show()"
   ],
   "outputs": [],
   "metadata": {}
  },
  {
   "cell_type": "code",
   "execution_count": null,
   "source": [
    "df[df['X']<10]"
   ],
   "outputs": [],
   "metadata": {}
  },
  {
   "cell_type": "code",
   "execution_count": null,
   "source": [
    "df[df['Y']<10]"
   ],
   "outputs": [],
   "metadata": {}
  },
  {
   "cell_type": "code",
   "execution_count": null,
   "source": [
    "df[df['W']<10]"
   ],
   "outputs": [],
   "metadata": {}
  },
  {
   "cell_type": "code",
   "execution_count": null,
   "source": [
    "df[df['H']<10]"
   ],
   "outputs": [],
   "metadata": {}
  },
  {
   "cell_type": "code",
   "execution_count": null,
   "source": [
    "df.sort_values(['H','W']).tail(25)"
   ],
   "outputs": [],
   "metadata": {}
  },
  {
   "cell_type": "code",
   "execution_count": null,
   "source": [
    "len(df[(df['H']>1000) & (df['W']>1000)])"
   ],
   "outputs": [],
   "metadata": {}
  },
  {
   "cell_type": "code",
   "execution_count": null,
   "source": [
    "a = df[['image_id', 'category_id']].groupby(['image_id']).agg([pd.Series.count, pd.Series.nunique])"
   ],
   "outputs": [],
   "metadata": {}
  },
  {
   "cell_type": "code",
   "execution_count": null,
   "source": [
    "a.columns"
   ],
   "outputs": [],
   "metadata": {}
  },
  {
   "cell_type": "code",
   "execution_count": null,
   "source": [
    "a.sort_values(('category_id',   'count')).tail(16).index.tolist()"
   ],
   "outputs": [],
   "metadata": {}
  },
  {
   "cell_type": "code",
   "execution_count": null,
   "source": [
    "df[(df['X'] > 1000) | (df['Y'] > 1000)]['image_id'].values.tolist()"
   ],
   "outputs": [],
   "metadata": {}
  },
  {
   "cell_type": "code",
   "execution_count": null,
   "source": [],
   "outputs": [],
   "metadata": {}
  }
 ],
 "metadata": {
  "orig_nbformat": 4,
  "language_info": {
   "name": "python",
   "version": "3.7.11",
   "mimetype": "text/x-python",
   "codemirror_mode": {
    "name": "ipython",
    "version": 3
   },
   "pygments_lexer": "ipython3",
   "nbconvert_exporter": "python",
   "file_extension": ".py"
  },
  "kernelspec": {
   "name": "python3",
   "display_name": "Python 3.7.11 64-bit ('detection': conda)"
  },
  "interpreter": {
   "hash": "29b0cbc8c2bc4924fb253dd9334aba0cc9ad3225fd824ea55dea16089b664698"
  }
 },
 "nbformat": 4,
 "nbformat_minor": 2
}